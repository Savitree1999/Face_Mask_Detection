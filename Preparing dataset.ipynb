{
 "cells": [
  {
   "cell_type": "code",
   "execution_count": 1,
   "id": "831f1417",
   "metadata": {},
   "outputs": [],
   "source": [
    "from PIL import Image, ImageOps\n",
    "import tensorflow\n",
    "import keras\n",
    "import os\n",
    "import cv2"
   ]
  },
  {
   "cell_type": "code",
   "execution_count": 2,
   "id": "b7dd4703",
   "metadata": {},
   "outputs": [],
   "source": [
    "face_cascade = 'haarcascade_frontalface_default.xml'\n",
    "face_classifier = cv2.CascadeClassifier(face_cascade)"
   ]
  },
  {
   "cell_type": "code",
   "execution_count": 3,
   "id": "ab8835e2",
   "metadata": {},
   "outputs": [],
   "source": [
    "input_path = \"C:\\\\Users\\\\HOME\\\\Desktop\\\\face_mask_detection\\\\original_no_mask\\\\\"\n",
    "\n",
    "count = 0\n",
    "for i in os.listdir(input_path):\n",
    "    image = cv2.imread(input_path+i)\n",
    "    gray = cv2.cvtColor(image, cv2.COLOR_BGR2GRAY)\n",
    "    faces = face_classifier.detectMultiScale(gray)\n",
    "\n",
    "    for face in faces:\n",
    "        x,y,w,h = face\n",
    "        cface = image[y:y+h, x:x+w]\n",
    "        cv2.imwrite(f'C:/Users/HOME/Desktop/face_mask_detection/no_mask/no_mask_{count}.jpg',cface)\n",
    "        count += 1\n"
   ]
  },
  {
   "cell_type": "code",
   "execution_count": 4,
   "id": "ceb5e205",
   "metadata": {},
   "outputs": [],
   "source": [
    "input_path = \"C:\\\\Users\\\\HOME\\\\Desktop\\\\face_mask_detection\\\\original_mask\\\\\"\n",
    "\n",
    "count = 0\n",
    "for i in os.listdir(input_path):\n",
    "    image = cv2.imread(input_path+i)\n",
    "    gray = cv2.cvtColor(image, cv2.COLOR_BGR2GRAY)\n",
    "    faces = face_classifier.detectMultiScale(gray)\n",
    "\n",
    "    for face in faces:\n",
    "        x,y,w,h = face\n",
    "        cface = image[y:y+h, x:x+w]\n",
    "        cv2.imwrite(f'C:/Users/HOME/Desktop/face_mask_detection/mask/mask_{count}.jpg',cface)\n",
    "        count += 1\n"
   ]
  },
  {
   "cell_type": "code",
   "execution_count": null,
   "id": "5b092302",
   "metadata": {},
   "outputs": [],
   "source": []
  }
 ],
 "metadata": {
  "kernelspec": {
   "display_name": "Python 3",
   "language": "python",
   "name": "python3"
  },
  "language_info": {
   "codemirror_mode": {
    "name": "ipython",
    "version": 3
   },
   "file_extension": ".py",
   "mimetype": "text/x-python",
   "name": "python",
   "nbconvert_exporter": "python",
   "pygments_lexer": "ipython3",
   "version": "3.6.13"
  }
 },
 "nbformat": 4,
 "nbformat_minor": 5
}
