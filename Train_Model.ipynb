{
 "cells": [
  {
   "cell_type": "code",
   "execution_count": 31,
   "id": "25cd40ff",
   "metadata": {},
   "outputs": [],
   "source": [
    "# Import library.\n",
    "from tensorflow.keras.preprocessing.image import ImageDataGenerator\n",
    "from tensorflow.keras.preprocessing import image\n",
    "from tensorflow.keras.optimizers import RMSprop\n",
    "from PIL import Image, ImageOps\n",
    "import matplotlib.pyplot as plt\n",
    "import tensorflow as tf\n",
    "import numpy as np\n",
    "import cv2\n",
    "import os"
   ]
  },
  {
   "cell_type": "code",
   "execution_count": 38,
   "id": "46eaf548",
   "metadata": {},
   "outputs": [],
   "source": [
    "train = ImageDataGenerator(rescale = 1/255)\n",
    "test = ImageDataGenerator(rescale = 1/255)"
   ]
  },
  {
   "cell_type": "code",
   "execution_count": 39,
   "id": "e05a66fe",
   "metadata": {},
   "outputs": [
    {
     "name": "stdout",
     "output_type": "stream",
     "text": [
      "Found 670 images belonging to 2 classes.\n",
      "Found 200 images belonging to 2 classes.\n"
     ]
    }
   ],
   "source": [
    "# Set image size\n",
    "IMG_SIZE = 224\n",
    "\n",
    "#Load data\n",
    "train_dataset = train.flow_from_directory(\"C:\" + os.sep + \"Users\" + os.sep + \"HOME\" + os.sep + \"Desktop\" + os.sep + \"mask\" + os.sep + \"train\",\n",
    "                                         target_size = (IMG_SIZE,IMG_SIZE),\n",
    "                                         batch_size = 3,\n",
    "                                         class_mode = 'binary')\n",
    "\n",
    "test_dataset = train.flow_from_directory(\"C:\" + os.sep + \"Users\" + os.sep + \"HOME\" + os.sep + \"Desktop\" + os.sep + \"mask\" + os.sep + \"test\",\n",
    "                                         target_size = (IMG_SIZE,IMG_SIZE),\n",
    "                                         batch_size = 3,\n",
    "                                         class_mode = 'binary')"
   ]
  },
  {
   "cell_type": "code",
   "execution_count": 40,
   "id": "28484df2",
   "metadata": {},
   "outputs": [],
   "source": [
    "# Set up model\n",
    "model = tf.keras.models.Sequential([ tf.keras.layers.Conv2D(64,(3,3),activation = 'relu' ,input_shape = (IMG_SIZE,IMG_SIZE,3)),\n",
    "                                  tf.keras.layers.MaxPool2D(2,2),\n",
    "                                  \n",
    "                                  tf.keras.layers.Conv2D(64,(3,3),activation = 'relu'),\n",
    "                                  tf.keras.layers.MaxPool2D(2,2),\n",
    "                                  \n",
    "                                  tf.keras.layers.Conv2D(64,(3,3),activation = 'relu'),\n",
    "                                  tf.keras.layers.MaxPool2D(2,2),\n",
    "                                   \n",
    "                                  tf.keras.layers.Flatten(),\n",
    "                                  \n",
    "                                  tf.keras.layers.Dense(64,activation = 'relu'),\n",
    "                                    \n",
    "                                  tf.keras.layers.Dense(32,activation = 'relu'),\n",
    "                                  \n",
    "                                  tf.keras.layers.Dense(2,activation = 'softmax')])"
   ]
  },
  {
   "cell_type": "code",
   "execution_count": 41,
   "id": "7cb1c47a",
   "metadata": {},
   "outputs": [
    {
     "name": "stdout",
     "output_type": "stream",
     "text": [
      "Model: \"sequential_3\"\n",
      "_________________________________________________________________\n",
      "Layer (type)                 Output Shape              Param #   \n",
      "=================================================================\n",
      "conv2d_9 (Conv2D)            (None, 222, 222, 64)      1792      \n",
      "_________________________________________________________________\n",
      "max_pooling2d_9 (MaxPooling2 (None, 111, 111, 64)      0         \n",
      "_________________________________________________________________\n",
      "conv2d_10 (Conv2D)           (None, 109, 109, 64)      36928     \n",
      "_________________________________________________________________\n",
      "max_pooling2d_10 (MaxPooling (None, 54, 54, 64)        0         \n",
      "_________________________________________________________________\n",
      "conv2d_11 (Conv2D)           (None, 52, 52, 64)        36928     \n",
      "_________________________________________________________________\n",
      "max_pooling2d_11 (MaxPooling (None, 26, 26, 64)        0         \n",
      "_________________________________________________________________\n",
      "flatten_3 (Flatten)          (None, 43264)             0         \n",
      "_________________________________________________________________\n",
      "dense_9 (Dense)              (None, 64)                2768960   \n",
      "_________________________________________________________________\n",
      "dense_10 (Dense)             (None, 32)                2080      \n",
      "_________________________________________________________________\n",
      "dense_11 (Dense)             (None, 2)                 66        \n",
      "=================================================================\n",
      "Total params: 2,846,754\n",
      "Trainable params: 2,846,754\n",
      "Non-trainable params: 0\n",
      "_________________________________________________________________\n"
     ]
    }
   ],
   "source": [
    "# Show detail of model\n",
    "model.summary()"
   ]
  },
  {
   "cell_type": "code",
   "execution_count": 42,
   "id": "25ea24ad",
   "metadata": {},
   "outputs": [],
   "source": [
    "# Compile model\n",
    "model.compile(loss = 'sparse_categorical_crossentropy',\n",
    "             optimizer = 'adam',\n",
    "             metrics = ['accuracy'])"
   ]
  },
  {
   "cell_type": "code",
   "execution_count": 44,
   "id": "30a28f4e",
   "metadata": {},
   "outputs": [
    {
     "name": "stdout",
     "output_type": "stream",
     "text": [
      "Epoch 1/5\n",
      "200/200 [==============================] - 89s 445ms/step - loss: 0.2919 - accuracy: 0.8829 - val_loss: 0.0819 - val_accuracy: 0.9850\n",
      "Epoch 2/5\n",
      "200/200 [==============================] - 85s 427ms/step - loss: 0.1758 - accuracy: 0.9632 - val_loss: 0.0922 - val_accuracy: 0.9700\n",
      "Epoch 3/5\n",
      "200/200 [==============================] - 86s 428ms/step - loss: 0.2121 - accuracy: 0.9565 - val_loss: 0.0802 - val_accuracy: 0.9900\n",
      "Epoch 4/5\n",
      "200/200 [==============================] - 85s 425ms/step - loss: 0.0746 - accuracy: 0.9833 - val_loss: 0.0595 - val_accuracy: 0.9900\n",
      "Epoch 5/5\n",
      "200/200 [==============================] - 85s 423ms/step - loss: 0.0583 - accuracy: 0.9849 - val_loss: 0.0516 - val_accuracy: 0.9850\n"
     ]
    },
    {
     "data": {
      "text/plain": [
       "<tensorflow.python.keras.callbacks.History at 0x21188dfa640>"
      ]
     },
     "execution_count": 44,
     "metadata": {},
     "output_type": "execute_result"
    }
   ],
   "source": [
    "# Training\n",
    "nb_epoch = 5\n",
    "nb_train_samples = 200\n",
    "\n",
    "model.fit_generator(\n",
    "        train_dataset,\n",
    "        steps_per_epoch=nb_train_samples,\n",
    "        epochs=nb_epoch,\n",
    "        validation_data=test_dataset)"
   ]
  },
  {
   "cell_type": "code",
   "execution_count": 45,
   "id": "6c092a7b",
   "metadata": {},
   "outputs": [],
   "source": [
    "# Save model\n",
    "model.save(\"model_mask_detection2.h5\")"
   ]
  },
  {
   "cell_type": "code",
   "execution_count": null,
   "id": "29d7a72a",
   "metadata": {},
   "outputs": [],
   "source": []
  }
 ],
 "metadata": {
  "kernelspec": {
   "display_name": "Python 3",
   "language": "python",
   "name": "python3"
  },
  "language_info": {
   "codemirror_mode": {
    "name": "ipython",
    "version": 3
   },
   "file_extension": ".py",
   "mimetype": "text/x-python",
   "name": "python",
   "nbconvert_exporter": "python",
   "pygments_lexer": "ipython3",
   "version": "3.6.13"
  }
 },
 "nbformat": 4,
 "nbformat_minor": 5
}
