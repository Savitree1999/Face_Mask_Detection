{
 "cells": [
  {
   "cell_type": "code",
   "execution_count": null,
   "id": "1e48a9fc",
   "metadata": {},
   "outputs": [],
   "source": [
    "# Import library.\n",
    "from PIL import Image, ImageOps\n",
    "from tensorflow.keras.models import load_model\n",
    "import cv2\n",
    "import tensorflow\n",
    "import keras\n",
    "import numpy as np\n",
    "import os"
   ]
  },
  {
   "cell_type": "code",
   "execution_count": null,
   "id": "9f3b4cc4",
   "metadata": {},
   "outputs": [],
   "source": [
    "# Load face classifier model.\n",
    "face_cascade = 'haarcascade_frontalface_default.xml'\n",
    "face_classifier = cv2.CascadeClassifier(face_cascade)"
   ]
  },
  {
   "cell_type": "code",
   "execution_count": null,
   "id": "b1adbc4b",
   "metadata": {},
   "outputs": [],
   "source": [
    "# Load our face mask classifier model.\n",
    "model = load_model(\"model_mask_detection2.h5\")"
   ]
  },
  {
   "cell_type": "code",
   "execution_count": null,
   "id": "3afd9c5d",
   "metadata": {},
   "outputs": [],
   "source": [
    "# Setting size \n",
    "size = (224, 224)\n",
    "np.set_printoptions(suppress = True)"
   ]
  },
  {
   "cell_type": "code",
   "execution_count": null,
   "id": "8ca0e1ea",
   "metadata": {
    "scrolled": false
   },
   "outputs": [],
   "source": [
    "# Choose camera\n",
    "webcam = cv2.VideoCapture(0)\n",
    "count = 0\n",
    "\n",
    "# Open camera\n",
    "while True:  \n",
    "    # Capture image from camera into image_bgr.\n",
    "    success, image_bgr = webcam.read()\n",
    "    image_org = image_bgr.copy()\n",
    "    \n",
    "    # Adjust image color to be black and white.\n",
    "    image_bw = cv2.cvtColor(image_bgr, cv2.COLOR_BGR2GRAY)\n",
    "    \n",
    "    # Adjust image color to rgb color.\n",
    "    image_rgb = cv2.cvtColor(image_bgr, cv2.COLOR_BGR2RGB)\n",
    "    \n",
    "    # Detect face in image.\n",
    "    faces = face_classifier.detectMultiScale(image_bw)\n",
    "    \n",
    "    for face in faces:\n",
    "        x,y,w,h = face # Position of face \n",
    "        \n",
    "        # Image setting\n",
    "        cface_rgb = Image.fromarray(image_rgb[y:y+h, x:x+w])\n",
    "        data = np.ndarray(shape=(1, 224, 224, 3), dtype=np.float32)\n",
    "        image = cface_rgb\n",
    "        image = ImageOps.fit(image, size, Image.ANTIALIAS)\n",
    "        image_array = np.asarray(image)\n",
    "        normalized_image_array = (image_array.astype(np.float32) / 127.0) - 1\n",
    "        data[0] = normalized_image_array\n",
    "        \n",
    "        # Classification of whether a person is wearing a mask or not. \n",
    "        prediction = model.predict(data)\n",
    "        \n",
    "        # Setting color and text for each case.\n",
    "        # Masked \n",
    "        if prediction[0][0] > prediction[0][1]:\n",
    "            color = (255,102,51)\n",
    "            cv2.rectangle(image_bgr,(x,y),(x+w,y+h),color,2)\n",
    "            cv2.rectangle(image_bgr,(x-1, y-30),(x+w+1,y),color , cv2.FILLED)\n",
    "            cv2.rectangle(image_bgr,(x-1, y+h),(x+w+1,y+h+30),color ,cv2.FILLED)\n",
    "            \n",
    "            cv2.putText(image_bgr,'Masked',(x+6,y-6),cv2.FONT_HERSHEY_DUPLEX,0.6,(255,255,255) ,2)\n",
    "            cv2.putText(image_bgr,str(prediction[0][0]*100)+'%',(x+6,y+h+23),cv2.FONT_HERSHEY_DUPLEX,0.6,(255,255,255) ,2)\n",
    "        \n",
    "        # Non-Masked\n",
    "        else:\n",
    "            color = (46,2,209)\n",
    "            cv2.rectangle(image_bgr,(x,y),(x+w,y+h),color,2)\n",
    "            cv2.rectangle(image_bgr,(x-1, y-30),(x+w+1,y),color , cv2.FILLED)\n",
    "            cv2.rectangle(image_bgr,(x-1, y+h),(x+w+1,y+h+30),color ,cv2.FILLED)\n",
    "            \n",
    "            cv2.putText(image_bgr,'Non-Masked',(x+6,y-6),cv2.FONT_HERSHEY_DUPLEX,0.6,(255,255,255) ,2)\n",
    "            cv2.putText(image_bgr,str(prediction[0][1]*100)+'%',(x+6,y+h+23),cv2.FONT_HERSHEY_DUPLEX,0.6,(255,255,255) ,2)\n",
    "    \n",
    "    # Show window \n",
    "    cv2.imshow('Mask Detection',image_bgr)\n",
    "    cv2.waitKey(1)\n",
    "    "
   ]
  }
 ],
 "metadata": {
  "kernelspec": {
   "display_name": "Python 3",
   "language": "python",
   "name": "python3"
  },
  "language_info": {
   "codemirror_mode": {
    "name": "ipython",
    "version": 3
   },
   "file_extension": ".py",
   "mimetype": "text/x-python",
   "name": "python",
   "nbconvert_exporter": "python",
   "pygments_lexer": "ipython3",
   "version": "3.6.13"
  }
 },
 "nbformat": 4,
 "nbformat_minor": 5
}
